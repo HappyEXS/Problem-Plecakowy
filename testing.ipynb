{
 "cells": [
  {
   "cell_type": "code",
   "execution_count": 10,
   "metadata": {},
   "outputs": [],
   "source": [
    "from heuristic import HeuristicMethodKnapsackProblem\r\n",
    "from astar import Astar\r\n",
    "from pbil import PBIL_knapsack_problem\r\n",
    "from dynamic import  Dynamic_algorithm_knapsack_problem\r\n",
    "import generate_data"
   ]
  },
  {
   "cell_type": "code",
   "execution_count": 11,
   "metadata": {},
   "outputs": [],
   "source": [
    "MAX_WEIGHT = 20\r\n",
    "data = generate_data.generate_uncorrelated(num_of_items=100, max_weight=MAX_WEIGHT)"
   ]
  },
  {
   "cell_type": "code",
   "execution_count": 12,
   "metadata": {},
   "outputs": [
    {
     "name": "stdout",
     "output_type": "stream",
     "text": [
      "524.52\n"
     ]
    }
   ],
   "source": [
    "model = HeuristicMethodKnapsackProblem(dataset=data, knapsack_capacity=200)\r\n",
    "print(model.solve())"
   ]
  },
  {
   "cell_type": "code",
   "execution_count": 13,
   "metadata": {},
   "outputs": [
    {
     "name": "stdout",
     "output_type": "stream",
     "text": [
      "524.52\n"
     ]
    }
   ],
   "source": [
    "model = Astar(dataset=data, knapsack_capacity=200)\r\n",
    "print(model.solve())"
   ]
  },
  {
   "cell_type": "code",
   "execution_count": 14,
   "metadata": {},
   "outputs": [
    {
     "name": "stdout",
     "output_type": "stream",
     "text": [
      "273.2199999999991\n"
     ]
    }
   ],
   "source": [
    "model = PBIL_knapsack_problem(lr=0.3, M=200, N=100)\r\n",
    "model.get_data(dataset=data, knapsack_capacity=200)\r\n",
    "print(model.solve_knapsack_problem())"
   ]
  },
  {
   "cell_type": "code",
   "execution_count": 15,
   "metadata": {},
   "outputs": [
    {
     "name": "stdout",
     "output_type": "stream",
     "text": [
      "524.5200000000001\n"
     ]
    }
   ],
   "source": [
    "model = Dynamic_algorithm_knapsack_problem()\r\n",
    "model.get_data(dataset=data, knapsack_capacity=200)\r\n",
    "print(model.solve_knapsack_problem())"
   ]
  },
  {
   "cell_type": "code",
   "execution_count": 16,
   "metadata": {},
   "outputs": [
    {
     "data": {
      "text/plain": "[(2.68, 2.49),\n (4.27, 7.44),\n (8.16, 11.34),\n (7.89, 17.95),\n (19.72, 18.26),\n (5.93, 15.92),\n (9.68, 3.32),\n (11.52, 7.46),\n (4.32, 8.8),\n (19.38, 13.62)]"
     },
     "execution_count": 16,
     "metadata": {},
     "output_type": "execute_result"
    }
   ],
   "source": [
    "generate_data.generate_uncorrelated(10, MAX_WEIGHT)"
   ]
  },
  {
   "cell_type": "code",
   "execution_count": 17,
   "metadata": {},
   "outputs": [
    {
     "data": {
      "text/plain": "[(13.37, 11.56),\n (6.48, 1.4),\n (16.88, 16.9),\n (15.5, 10.68),\n (1, 7.07),\n (17.98, 12.84),\n (3.28, 12.92),\n (11.18, 8.12),\n (10.42, 3.29),\n (15.1, 7.17)]"
     },
     "execution_count": 17,
     "metadata": {},
     "output_type": "execute_result"
    }
   ],
   "source": [
    "generate_data.generate_semicorrelated(10, MAX_WEIGHT)"
   ]
  },
  {
   "cell_type": "code",
   "execution_count": 18,
   "metadata": {},
   "outputs": [
    {
     "data": {
      "text/plain": "[(19.07, 9.07),\n (20.54, 10.54),\n (22.65, 12.65),\n (11.96, 1.96),\n (21.83, 11.83),\n (15.84, 5.84),\n (29.5, 19.5),\n (19.37, 9.37),\n (18.33, 8.33),\n (27.71, 17.71)]"
     },
     "execution_count": 18,
     "metadata": {},
     "output_type": "execute_result"
    }
   ],
   "source": [
    "generate_data.generate_correlated(10, MAX_WEIGHT)"
   ]
  }
 ],
 "metadata": {
  "kernelspec": {
   "display_name": "Python 3.10.4 64-bit",
   "name": "python3104jvsc74a57bd02be5faf79681da6f2a61fdfdd5405d65d042280f7fba6178067603e3a2925119"
  },
  "language_info": {
   "codemirror_mode": {
    "name": "ipython",
    "version": 3
   },
   "file_extension": ".py",
   "mimetype": "text/x-python",
   "name": "python",
   "nbconvert_exporter": "python",
   "pygments_lexer": "ipython3",
   "version": "3.10.4"
  },
  "metadata": {
   "interpreter": {
    "hash": "2be5faf79681da6f2a61fdfdd5405d65d042280f7fba6178067603e3a2925119"
   }
  },
  "orig_nbformat": 4,
  "vscode": {
   "interpreter": {
    "hash": "8980fbb0131dcda9782b1cfe4fd336e8d0db3e3576518f2a6d423d3c29fe3e91"
   }
  }
 },
 "nbformat": 4,
 "nbformat_minor": 2
}